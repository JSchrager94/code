{
 "cells": [
  {
   "cell_type": "code",
   "execution_count": 1,
   "metadata": {},
   "outputs": [],
   "source": [
    "def gini_impurity(y):\n",
    "    # calculate gini_impurity given labels/classes of each example\n",
    "    m = y.shape[0]\n",
    "    cnts = dict(zip(*np.unique(y, return_counts = True)))\n",
    "    impurity = 1 - sum((cnt/m)**2 for cnt in cnts.values())\n",
    "    return impurity\n",
    "\n",
    "def entropy(y):\n",
    "    # calculate entropy given labels/classes of each example\n",
    "    m = y.shape[0]\n",
    "    cnts = dict(zip(*np.unique(y, return_counts = True)))\n",
    "    disorder = - sum((cnt/m)*log(cnt/m) for cnt in cnts.values())\n",
    "    return disorder"
   ]
  },
  {
   "cell_type": "code",
   "execution_count": 3,
   "metadata": {},
   "outputs": [],
   "source": [
    "def get_split(X, y):\n",
    "    # loop through features and values to find best combination with the most information gain\n",
    "    best_gain, best_index, best_value = 0, None, None\n",
    "    cur_gini = gini_impurity(y)\n",
    "    n_features = X.shape[1]  \n",
    "\n",
    "    for index in range(n_features):  \n",
    "        values = np.unique(X[:, index], return_counts = False)  \n",
    "\n",
    "        for value in values:  \n",
    "            left, right = test_split(index, value, X, y)\n",
    "            if left['y'].shape[0] == 0 or right['y'].shape[0] == 0:\n",
    "                continue\n",
    "            gain = info_gain(left['y'], right['y'], cur_gini)\n",
    "            if gain > best_gain:\n",
    "                best_gain, best_index, best_value = gain, index, value\n",
    "    best_split = {'gain': best_gain, 'index': best_index, 'value': best_value}\n",
    "    return best_split\n",
    "    \n",
    "def test_split(index, value, X, y):\n",
    "    # split a group of examples based on given index (feature) and value\n",
    "    mask = X[:, index] < value \n",
    "    left = {'X': X[mask, :], 'y': y[mask]}\n",
    "    right = {'X': X[~mask, :], 'y': y[~mask]}\n",
    "    return left, right\n",
    "    \n",
    "def info_gain(l_y, r_y, cur_gini):\n",
    "    # calculate the information gain for a certain split\n",
    "    m, n = l_y.shape[0], r_y.shape[0]\n",
    "    p = m / (m + n)\n",
    "    return cur_gini - p * gini_impurity(l_y) - (1 - p) * gini_impurity(r_y)"
   ]
  },
  {
   "cell_type": "code",
   "execution_count": null,
   "metadata": {},
   "outputs": [],
   "source": [
    "class Decision_Node:\n",
    "    # define a decision node\n",
    "    def __init__(self, index, value, left, right):\n",
    "        self.index, self.value = index, value\n",
    "        self.left, self.right = left, right\n",
    "\n",
    "class Leaf:\n",
    "    # define a leaf node\n",
    "    def __init__(self, y):\n",
    "        self.counts = dict(zip(*np.unique(y, return_counts = True)))\n",
    "        self.prediction = max(self.counts.keys(), key = lambda x: self.counts[x])"
   ]
  }
 ],
 "metadata": {
  "kernelspec": {
   "display_name": "Python 3",
   "language": "python",
   "name": "python3"
  },
  "language_info": {
   "codemirror_mode": {
    "name": "ipython",
    "version": 3
   },
   "file_extension": ".py",
   "mimetype": "text/x-python",
   "name": "python",
   "nbconvert_exporter": "python",
   "pygments_lexer": "ipython3",
   "version": "3.8.5"
  }
 },
 "nbformat": 4,
 "nbformat_minor": 4
}
